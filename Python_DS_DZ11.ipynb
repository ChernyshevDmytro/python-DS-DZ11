{
  "nbformat": 4,
  "nbformat_minor": 0,
  "metadata": {
    "colab": {
      "provenance": []
    },
    "kernelspec": {
      "name": "python3",
      "display_name": "Python 3"
    },
    "language_info": {
      "name": "python"
    },
    "accelerator": "GPU",
    "gpuClass": "standard"
  },
  "cells": [
    {
      "cell_type": "code",
      "execution_count": 83,
      "metadata": {
        "id": "pTiMl6Talsit"
      },
      "outputs": [],
      "source": [
        "import tensorflow as tf\n",
        "from tensorflow import keras\n",
        "from keras.datasets import fashion_mnist\n",
        "from keras.models import Sequential\n",
        "from keras.layers import Dense\n",
        "from keras.layers import Flatten\n",
        "from keras import optimizers\n",
        "from keras import losses\n",
        "from keras import metrics\n",
        "from tensorflow.keras.utils import to_categorical\n",
        "import numpy as np\n",
        "\n",
        "(train_data, train_labels), (test_data, test_labels) = fashion_mnist.load_data()\n",
        "\n",
        "train_data = train_data.astype('float32') / 255.0\n",
        "test_data = test_data.astype('float32') / 255.0\n"
      ]
    },
    {
      "cell_type": "code",
      "source": [
        "model = tf.keras.Sequential()\n",
        "# Must define the input shape in the first layer of the neural network\n",
        "model.add(tf.keras.layers.Conv2D(filters=32, kernel_size=2, padding='same', activation='relu', input_shape=(28,28,1))) \n",
        "model.add(tf.keras.layers.MaxPooling2D(pool_size=2))\n",
        "model.add(tf.keras.layers.Dropout(0.15))\n",
        "model.add(tf.keras.layers.Conv2D(filters=64, kernel_size=2, padding='same', activation='relu'))\n",
        "model.add(tf.keras.layers.MaxPooling2D(pool_size=2))\n",
        "model.add(tf.keras.layers.Dropout(0.25))\n",
        "\n",
        "model.add(tf.keras.layers.Flatten())\n",
        "model.add(tf.keras.layers.Dense(256, activation='sigmoid'))\n",
        "model.add(tf.keras.layers.Dropout(0.4))\n",
        "model.add(tf.keras.layers.Dense(10, activation='softmax'))\n",
        "\n",
        "model.compile(\n",
        "    optimizer=\"adam\",\n",
        "    loss=tf.keras.losses.SparseCategoricalCrossentropy(),\n",
        "    metrics=[\"accuracy\"]\n",
        ")\n",
        "model.summary()"
      ],
      "metadata": {
        "colab": {
          "base_uri": "https://localhost:8080/"
        },
        "id": "t6EBisuQl7W3",
        "outputId": "19c4b724-e9d5-42bc-b466-f7163f803910"
      },
      "execution_count": 35,
      "outputs": [
        {
          "output_type": "stream",
          "name": "stdout",
          "text": [
            "Model: \"sequential_11\"\n",
            "_________________________________________________________________\n",
            " Layer (type)                Output Shape              Param #   \n",
            "=================================================================\n",
            " conv2d_22 (Conv2D)          (None, 28, 28, 32)        160       \n",
            "                                                                 \n",
            " max_pooling2d_22 (MaxPoolin  (None, 14, 14, 32)       0         \n",
            " g2D)                                                            \n",
            "                                                                 \n",
            " dropout_32 (Dropout)        (None, 14, 14, 32)        0         \n",
            "                                                                 \n",
            " conv2d_23 (Conv2D)          (None, 14, 14, 64)        8256      \n",
            "                                                                 \n",
            " max_pooling2d_23 (MaxPoolin  (None, 7, 7, 64)         0         \n",
            " g2D)                                                            \n",
            "                                                                 \n",
            " dropout_33 (Dropout)        (None, 7, 7, 64)          0         \n",
            "                                                                 \n",
            " flatten_10 (Flatten)        (None, 3136)              0         \n",
            "                                                                 \n",
            " dense_20 (Dense)            (None, 256)               803072    \n",
            "                                                                 \n",
            " dropout_34 (Dropout)        (None, 256)               0         \n",
            "                                                                 \n",
            " dense_21 (Dense)            (None, 10)                2570      \n",
            "                                                                 \n",
            "=================================================================\n",
            "Total params: 814,058\n",
            "Trainable params: 814,058\n",
            "Non-trainable params: 0\n",
            "_________________________________________________________________\n"
          ]
        }
      ]
    },
    {
      "cell_type": "code",
      "source": [
        "x_val = train_data[:15000]\n",
        "partial_x_train = train_data[15000:]\n",
        "\n",
        "y_val =train_labels[:15000]\n",
        "partial_y_train = train_labels[15000:]"
      ],
      "metadata": {
        "id": "q8HHQ3jqmFt2"
      },
      "execution_count": 84,
      "outputs": []
    },
    {
      "cell_type": "code",
      "source": [
        "history = model.fit(\n",
        "    partial_x_train,\n",
        "    partial_y_train,\n",
        "    epochs=40,\n",
        "    batch_size=128,\n",
        "    validation_data=(test_data, test_labels)\n",
        ")"
      ],
      "metadata": {
        "colab": {
          "base_uri": "https://localhost:8080/"
        },
        "id": "jjakqRPqmAj9",
        "outputId": "c98d7b41-5628-49db-a065-95aac66ccf9e"
      },
      "execution_count": 36,
      "outputs": [
        {
          "output_type": "stream",
          "name": "stdout",
          "text": [
            "Epoch 1/40\n",
            "352/352 [==============================] - 3s 7ms/step - loss: 0.6936 - accuracy: 0.7418 - val_loss: 0.4405 - val_accuracy: 0.8389\n",
            "Epoch 2/40\n",
            "352/352 [==============================] - 2s 6ms/step - loss: 0.4380 - accuracy: 0.8417 - val_loss: 0.3827 - val_accuracy: 0.8588\n",
            "Epoch 3/40\n",
            "352/352 [==============================] - 2s 6ms/step - loss: 0.3836 - accuracy: 0.8601 - val_loss: 0.3499 - val_accuracy: 0.8744\n",
            "Epoch 4/40\n",
            "352/352 [==============================] - 2s 6ms/step - loss: 0.3551 - accuracy: 0.8694 - val_loss: 0.3287 - val_accuracy: 0.8758\n",
            "Epoch 5/40\n",
            "352/352 [==============================] - 2s 6ms/step - loss: 0.3334 - accuracy: 0.8782 - val_loss: 0.3120 - val_accuracy: 0.8850\n",
            "Epoch 6/40\n",
            "352/352 [==============================] - 2s 6ms/step - loss: 0.3130 - accuracy: 0.8838 - val_loss: 0.3094 - val_accuracy: 0.8853\n",
            "Epoch 7/40\n",
            "352/352 [==============================] - 2s 6ms/step - loss: 0.3038 - accuracy: 0.8885 - val_loss: 0.2966 - val_accuracy: 0.8893\n",
            "Epoch 8/40\n",
            "352/352 [==============================] - 2s 6ms/step - loss: 0.2902 - accuracy: 0.8929 - val_loss: 0.2854 - val_accuracy: 0.8936\n",
            "Epoch 9/40\n",
            "352/352 [==============================] - 2s 6ms/step - loss: 0.2791 - accuracy: 0.8973 - val_loss: 0.2896 - val_accuracy: 0.8928\n",
            "Epoch 10/40\n",
            "352/352 [==============================] - 2s 6ms/step - loss: 0.2736 - accuracy: 0.8980 - val_loss: 0.2780 - val_accuracy: 0.8969\n",
            "Epoch 11/40\n",
            "352/352 [==============================] - 2s 6ms/step - loss: 0.2656 - accuracy: 0.9021 - val_loss: 0.2757 - val_accuracy: 0.8970\n",
            "Epoch 12/40\n",
            "352/352 [==============================] - 2s 6ms/step - loss: 0.2573 - accuracy: 0.9052 - val_loss: 0.2672 - val_accuracy: 0.9034\n",
            "Epoch 13/40\n",
            "352/352 [==============================] - 2s 6ms/step - loss: 0.2482 - accuracy: 0.9072 - val_loss: 0.2563 - val_accuracy: 0.9043\n",
            "Epoch 14/40\n",
            "352/352 [==============================] - 2s 6ms/step - loss: 0.2421 - accuracy: 0.9112 - val_loss: 0.2553 - val_accuracy: 0.9047\n",
            "Epoch 15/40\n",
            "352/352 [==============================] - 2s 6ms/step - loss: 0.2338 - accuracy: 0.9128 - val_loss: 0.2497 - val_accuracy: 0.9104\n",
            "Epoch 16/40\n",
            "352/352 [==============================] - 2s 6ms/step - loss: 0.2283 - accuracy: 0.9154 - val_loss: 0.2520 - val_accuracy: 0.9079\n",
            "Epoch 17/40\n",
            "352/352 [==============================] - 2s 6ms/step - loss: 0.2226 - accuracy: 0.9167 - val_loss: 0.2480 - val_accuracy: 0.9080\n",
            "Epoch 18/40\n",
            "352/352 [==============================] - 2s 6ms/step - loss: 0.2164 - accuracy: 0.9192 - val_loss: 0.2418 - val_accuracy: 0.9116\n",
            "Epoch 19/40\n",
            "352/352 [==============================] - 2s 6ms/step - loss: 0.2133 - accuracy: 0.9209 - val_loss: 0.2500 - val_accuracy: 0.9064\n",
            "Epoch 20/40\n",
            "352/352 [==============================] - 2s 6ms/step - loss: 0.2097 - accuracy: 0.9232 - val_loss: 0.2440 - val_accuracy: 0.9093\n",
            "Epoch 21/40\n",
            "352/352 [==============================] - 2s 6ms/step - loss: 0.2039 - accuracy: 0.9234 - val_loss: 0.2385 - val_accuracy: 0.9130\n",
            "Epoch 22/40\n",
            "352/352 [==============================] - 2s 6ms/step - loss: 0.1978 - accuracy: 0.9257 - val_loss: 0.2333 - val_accuracy: 0.9156\n",
            "Epoch 23/40\n",
            "352/352 [==============================] - 2s 6ms/step - loss: 0.1933 - accuracy: 0.9272 - val_loss: 0.2358 - val_accuracy: 0.9134\n",
            "Epoch 24/40\n",
            "352/352 [==============================] - 2s 6ms/step - loss: 0.1872 - accuracy: 0.9308 - val_loss: 0.2381 - val_accuracy: 0.9167\n",
            "Epoch 25/40\n",
            "352/352 [==============================] - 2s 6ms/step - loss: 0.1844 - accuracy: 0.9304 - val_loss: 0.2397 - val_accuracy: 0.9161\n",
            "Epoch 26/40\n",
            "352/352 [==============================] - 2s 6ms/step - loss: 0.1811 - accuracy: 0.9329 - val_loss: 0.2368 - val_accuracy: 0.9132\n",
            "Epoch 27/40\n",
            "352/352 [==============================] - 2s 6ms/step - loss: 0.1786 - accuracy: 0.9322 - val_loss: 0.2405 - val_accuracy: 0.9151\n",
            "Epoch 28/40\n",
            "352/352 [==============================] - 2s 6ms/step - loss: 0.1703 - accuracy: 0.9370 - val_loss: 0.2366 - val_accuracy: 0.9173\n",
            "Epoch 29/40\n",
            "352/352 [==============================] - 2s 6ms/step - loss: 0.1675 - accuracy: 0.9369 - val_loss: 0.2314 - val_accuracy: 0.9198\n",
            "Epoch 30/40\n",
            "352/352 [==============================] - 2s 6ms/step - loss: 0.1633 - accuracy: 0.9389 - val_loss: 0.2297 - val_accuracy: 0.9191\n",
            "Epoch 31/40\n",
            "352/352 [==============================] - 2s 6ms/step - loss: 0.1629 - accuracy: 0.9390 - val_loss: 0.2288 - val_accuracy: 0.9190\n",
            "Epoch 32/40\n",
            "352/352 [==============================] - 2s 6ms/step - loss: 0.1568 - accuracy: 0.9398 - val_loss: 0.2355 - val_accuracy: 0.9187\n",
            "Epoch 33/40\n",
            "352/352 [==============================] - 2s 6ms/step - loss: 0.1559 - accuracy: 0.9422 - val_loss: 0.2288 - val_accuracy: 0.9203\n",
            "Epoch 34/40\n",
            "352/352 [==============================] - 2s 6ms/step - loss: 0.1536 - accuracy: 0.9430 - val_loss: 0.2324 - val_accuracy: 0.9181\n",
            "Epoch 35/40\n",
            "352/352 [==============================] - 2s 6ms/step - loss: 0.1491 - accuracy: 0.9435 - val_loss: 0.2313 - val_accuracy: 0.9217\n",
            "Epoch 36/40\n",
            "352/352 [==============================] - 2s 6ms/step - loss: 0.1464 - accuracy: 0.9456 - val_loss: 0.2315 - val_accuracy: 0.9203\n",
            "Epoch 37/40\n",
            "352/352 [==============================] - 2s 6ms/step - loss: 0.1470 - accuracy: 0.9454 - val_loss: 0.2269 - val_accuracy: 0.9223\n",
            "Epoch 38/40\n",
            "352/352 [==============================] - 2s 6ms/step - loss: 0.1440 - accuracy: 0.9460 - val_loss: 0.2369 - val_accuracy: 0.9210\n",
            "Epoch 39/40\n",
            "352/352 [==============================] - 2s 6ms/step - loss: 0.1416 - accuracy: 0.9473 - val_loss: 0.2314 - val_accuracy: 0.9217\n",
            "Epoch 40/40\n",
            "352/352 [==============================] - 2s 6ms/step - loss: 0.1333 - accuracy: 0.9505 - val_loss: 0.2326 - val_accuracy: 0.9231\n"
          ]
        }
      ]
    },
    {
      "cell_type": "code",
      "source": [
        "test_loss, test_acc = model.evaluate(test_data, test_labels, verbose=2)"
      ],
      "metadata": {
        "colab": {
          "base_uri": "https://localhost:8080/"
        },
        "id": "84rsCPaYmldW",
        "outputId": "f61bbcc6-9e1b-4227-f38e-30d6011775dc"
      },
      "execution_count": 37,
      "outputs": [
        {
          "output_type": "stream",
          "name": "stdout",
          "text": [
            "313/313 - 1s - loss: 0.2326 - accuracy: 0.9231 - 773ms/epoch - 2ms/step\n"
          ]
        }
      ]
    },
    {
      "cell_type": "code",
      "source": [
        "model1 = tf.keras.Sequential()\n",
        "# Must define the input shape in the first layer of the neural network\n",
        "model1.add(tf.keras.layers.Conv2D(filters=32, kernel_size=2, padding='same', activation='relu', input_shape=(28,28,1))) \n",
        "model1.add(tf.keras.layers.MaxPooling2D(pool_size=2))\n",
        "model1.add(tf.keras.layers.Dropout(0.15))\n",
        "model1.add(tf.keras.layers.Conv2D(filters=64, kernel_size=2, padding='same', activation='relu'))\n",
        "model1.add(tf.keras.layers.MaxPooling2D(pool_size=2))\n",
        "model1.add(tf.keras.layers.Dropout(0.25))\n",
        "\n",
        "model1.add(tf.keras.layers.Flatten())\n",
        "model1.add(tf.keras.layers.Dense(256, activation='relu'))\n",
        "model1.add(tf.keras.layers.Dropout(0.4))\n",
        "model1.add(tf.keras.layers.Dense(10, activation='softmax'))\n",
        "\n",
        "model1.compile(\n",
        "    optimizer=\"adam\",\n",
        "    loss=tf.keras.losses.SparseCategoricalCrossentropy(),\n",
        "    metrics=[\"accuracy\"]\n",
        ")\n",
        "model1.summary()"
      ],
      "metadata": {
        "colab": {
          "base_uri": "https://localhost:8080/"
        },
        "id": "AEWQ8S7ytBuf",
        "outputId": "9d594d42-3b26-4e8e-ba89-b78c40a72f3b"
      },
      "execution_count": 41,
      "outputs": [
        {
          "output_type": "stream",
          "name": "stdout",
          "text": [
            "Model: \"sequential_13\"\n",
            "_________________________________________________________________\n",
            " Layer (type)                Output Shape              Param #   \n",
            "=================================================================\n",
            " conv2d_26 (Conv2D)          (None, 28, 28, 32)        160       \n",
            "                                                                 \n",
            " max_pooling2d_26 (MaxPoolin  (None, 14, 14, 32)       0         \n",
            " g2D)                                                            \n",
            "                                                                 \n",
            " dropout_38 (Dropout)        (None, 14, 14, 32)        0         \n",
            "                                                                 \n",
            " conv2d_27 (Conv2D)          (None, 14, 14, 64)        8256      \n",
            "                                                                 \n",
            " max_pooling2d_27 (MaxPoolin  (None, 7, 7, 64)         0         \n",
            " g2D)                                                            \n",
            "                                                                 \n",
            " dropout_39 (Dropout)        (None, 7, 7, 64)          0         \n",
            "                                                                 \n",
            " flatten_12 (Flatten)        (None, 3136)              0         \n",
            "                                                                 \n",
            " dense_24 (Dense)            (None, 256)               803072    \n",
            "                                                                 \n",
            " dropout_40 (Dropout)        (None, 256)               0         \n",
            "                                                                 \n",
            " dense_25 (Dense)            (None, 10)                2570      \n",
            "                                                                 \n",
            "=================================================================\n",
            "Total params: 814,058\n",
            "Trainable params: 814,058\n",
            "Non-trainable params: 0\n",
            "_________________________________________________________________\n"
          ]
        }
      ]
    },
    {
      "cell_type": "code",
      "source": [
        "history = model1.fit(\n",
        "    partial_x_train,\n",
        "    partial_y_train,\n",
        "    epochs=10,\n",
        "    batch_size=512,\n",
        "    validation_data=(x_val, y_val)\n",
        ")"
      ],
      "metadata": {
        "colab": {
          "base_uri": "https://localhost:8080/"
        },
        "id": "mCOCEbbbtGpG",
        "outputId": "16318024-510f-4d1c-d683-aa9b5a9626dc"
      },
      "execution_count": 46,
      "outputs": [
        {
          "output_type": "stream",
          "name": "stdout",
          "text": [
            "Epoch 1/10\n",
            "88/88 [==============================] - 1s 17ms/step - loss: 0.0429 - accuracy: 0.9848 - val_loss: 0.2673 - val_accuracy: 0.9329\n",
            "Epoch 2/10\n",
            "88/88 [==============================] - 1s 17ms/step - loss: 0.0429 - accuracy: 0.9846 - val_loss: 0.2642 - val_accuracy: 0.9318\n",
            "Epoch 3/10\n",
            "88/88 [==============================] - 1s 15ms/step - loss: 0.0410 - accuracy: 0.9850 - val_loss: 0.2674 - val_accuracy: 0.9313\n",
            "Epoch 4/10\n",
            "88/88 [==============================] - 1s 15ms/step - loss: 0.0418 - accuracy: 0.9856 - val_loss: 0.2674 - val_accuracy: 0.9331\n",
            "Epoch 5/10\n",
            "88/88 [==============================] - 1s 15ms/step - loss: 0.0420 - accuracy: 0.9850 - val_loss: 0.2671 - val_accuracy: 0.9321\n",
            "Epoch 6/10\n",
            "88/88 [==============================] - 1s 15ms/step - loss: 0.0402 - accuracy: 0.9858 - val_loss: 0.2661 - val_accuracy: 0.9315\n",
            "Epoch 7/10\n",
            "88/88 [==============================] - 1s 17ms/step - loss: 0.0414 - accuracy: 0.9850 - val_loss: 0.2676 - val_accuracy: 0.9323\n",
            "Epoch 8/10\n",
            "88/88 [==============================] - 1s 15ms/step - loss: 0.0418 - accuracy: 0.9856 - val_loss: 0.2668 - val_accuracy: 0.9329\n",
            "Epoch 9/10\n",
            "88/88 [==============================] - 1s 15ms/step - loss: 0.0396 - accuracy: 0.9858 - val_loss: 0.2668 - val_accuracy: 0.9333\n",
            "Epoch 10/10\n",
            "88/88 [==============================] - 1s 17ms/step - loss: 0.0405 - accuracy: 0.9863 - val_loss: 0.2681 - val_accuracy: 0.9332\n"
          ]
        }
      ]
    },
    {
      "cell_type": "code",
      "source": [
        "test_loss, test_acc = model1.evaluate(test_data, test_labels, verbose=2)"
      ],
      "metadata": {
        "colab": {
          "base_uri": "https://localhost:8080/"
        },
        "id": "ekYfpoXz1a3O",
        "outputId": "8e60b337-eead-4688-9c95-a2f76d0885a5"
      },
      "execution_count": 47,
      "outputs": [
        {
          "output_type": "stream",
          "name": "stdout",
          "text": [
            "313/313 - 1s - loss: 0.3126 - accuracy: 0.9280 - 664ms/epoch - 2ms/step\n"
          ]
        }
      ]
    },
    {
      "cell_type": "code",
      "source": [
        "model2 = tf.keras.Sequential()\n",
        "# Must define the input shape in the first layer of the neural network\n",
        "model2.add(tf.keras.layers.Conv2D(filters=32, kernel_size=2, padding='same', activation='relu', input_shape=(28,28,1)))\n",
        "model2.add(tf.keras.layers.Conv2D(filters=64, kernel_size=2, padding='same', activation='relu')) \n",
        "model2.add(tf.keras.layers.MaxPooling2D(pool_size=2))\n",
        "model2.add(tf.keras.layers.Dropout(0.15))\n",
        "model2.add(tf.keras.layers.Conv2D(filters=64, kernel_size=2, padding='same', activation='relu'))\n",
        "model2.add(tf.keras.layers.MaxPooling2D(pool_size=2))\n",
        "model2.add(tf.keras.layers.Dropout(0.25))\n",
        "\n",
        "model2.add(tf.keras.layers.Flatten())\n",
        "model2.add(tf.keras.layers.Dense(256, activation='relu'))\n",
        "model2.add(tf.keras.layers.Dropout(0.15))\n",
        "model2.add(tf.keras.layers.Dense(10, activation='softmax'))\n",
        "\n",
        "model2.compile(\n",
        "    optimizer=\"adam\",\n",
        "    loss=tf.keras.losses.SparseCategoricalCrossentropy(),\n",
        "    metrics=[\"accuracy\"]\n",
        ")\n",
        "model2.summary()"
      ],
      "metadata": {
        "colab": {
          "base_uri": "https://localhost:8080/"
        },
        "id": "kT4od_R31li-",
        "outputId": "951641e8-3c30-4a7c-89aa-edb8181b4cb0"
      },
      "execution_count": 88,
      "outputs": [
        {
          "output_type": "stream",
          "name": "stdout",
          "text": [
            "Model: \"sequential_28\"\n",
            "_________________________________________________________________\n",
            " Layer (type)                Output Shape              Param #   \n",
            "=================================================================\n",
            " conv2d_56 (Conv2D)          (None, 28, 28, 32)        160       \n",
            "                                                                 \n",
            " conv2d_57 (Conv2D)          (None, 28, 28, 64)        8256      \n",
            "                                                                 \n",
            " max_pooling2d_56 (MaxPoolin  (None, 14, 14, 64)       0         \n",
            " g2D)                                                            \n",
            "                                                                 \n",
            " dropout_83 (Dropout)        (None, 14, 14, 64)        0         \n",
            "                                                                 \n",
            " conv2d_58 (Conv2D)          (None, 14, 14, 64)        16448     \n",
            "                                                                 \n",
            " max_pooling2d_57 (MaxPoolin  (None, 7, 7, 64)         0         \n",
            " g2D)                                                            \n",
            "                                                                 \n",
            " dropout_84 (Dropout)        (None, 7, 7, 64)          0         \n",
            "                                                                 \n",
            " flatten_27 (Flatten)        (None, 3136)              0         \n",
            "                                                                 \n",
            " dense_54 (Dense)            (None, 256)               803072    \n",
            "                                                                 \n",
            " dropout_85 (Dropout)        (None, 256)               0         \n",
            "                                                                 \n",
            " dense_55 (Dense)            (None, 10)                2570      \n",
            "                                                                 \n",
            "=================================================================\n",
            "Total params: 830,506\n",
            "Trainable params: 830,506\n",
            "Non-trainable params: 0\n",
            "_________________________________________________________________\n"
          ]
        }
      ]
    },
    {
      "cell_type": "code",
      "source": [
        "history = model2.fit(\n",
        "    partial_x_train,\n",
        "    partial_y_train,\n",
        "    epochs=8,\n",
        "    batch_size=128,\n",
        "    validation_data=(x_val, y_val)\n",
        ")"
      ],
      "metadata": {
        "colab": {
          "base_uri": "https://localhost:8080/"
        },
        "id": "vXqMcSsB1lsO",
        "outputId": "e3775aa6-375c-441a-9f47-b13e555c13a9"
      },
      "execution_count": 96,
      "outputs": [
        {
          "output_type": "stream",
          "name": "stdout",
          "text": [
            "Epoch 1/8\n",
            "352/352 [==============================] - 4s 12ms/step - loss: 0.0325 - accuracy: 0.9879 - val_loss: 0.2859 - val_accuracy: 0.9347\n",
            "Epoch 2/8\n",
            "352/352 [==============================] - 4s 12ms/step - loss: 0.0282 - accuracy: 0.9897 - val_loss: 0.3029 - val_accuracy: 0.9342\n",
            "Epoch 3/8\n",
            "352/352 [==============================] - 4s 11ms/step - loss: 0.0304 - accuracy: 0.9883 - val_loss: 0.3015 - val_accuracy: 0.9314\n",
            "Epoch 4/8\n",
            "352/352 [==============================] - 4s 11ms/step - loss: 0.0290 - accuracy: 0.9898 - val_loss: 0.2943 - val_accuracy: 0.9313\n",
            "Epoch 5/8\n",
            "352/352 [==============================] - 4s 12ms/step - loss: 0.0298 - accuracy: 0.9889 - val_loss: 0.3192 - val_accuracy: 0.9330\n",
            "Epoch 6/8\n",
            "352/352 [==============================] - 4s 12ms/step - loss: 0.0297 - accuracy: 0.9892 - val_loss: 0.3189 - val_accuracy: 0.9320\n",
            "Epoch 7/8\n",
            "352/352 [==============================] - 4s 12ms/step - loss: 0.0279 - accuracy: 0.9900 - val_loss: 0.3088 - val_accuracy: 0.9329\n",
            "Epoch 8/8\n",
            "352/352 [==============================] - 4s 11ms/step - loss: 0.0303 - accuracy: 0.9893 - val_loss: 0.3179 - val_accuracy: 0.9329\n"
          ]
        }
      ]
    },
    {
      "cell_type": "code",
      "source": [
        "test_loss, test_acc = model2.evaluate(test_data, test_labels)"
      ],
      "metadata": {
        "colab": {
          "base_uri": "https://localhost:8080/"
        },
        "id": "ubOroE6G1lz2",
        "outputId": "688b1fce-3dbb-4f20-f68b-492bbf7993fc"
      },
      "execution_count": 97,
      "outputs": [
        {
          "output_type": "stream",
          "name": "stdout",
          "text": [
            "313/313 [==============================] - 1s 3ms/step - loss: 0.3599 - accuracy: 0.9296\n"
          ]
        }
      ]
    },
    {
      "cell_type": "code",
      "source": [
        "model3 = tf.keras.Sequential()\n",
        "# Must define the input shape in the first layer of the neural network\n",
        "model3.add(tf.keras.layers.Conv2D(filters=32, kernel_size=2, padding='same', activation='relu', input_shape=(28,28,1)))\n",
        "model3.add(tf.keras.layers.Conv2D(filters=64, kernel_size=2, padding='same', activation='relu')) \n",
        "model3.add(tf.keras.layers.MaxPooling2D(pool_size=2))\n",
        "model3.add(tf.keras.layers.Dropout(0.15))\n",
        "model3.add(tf.keras.layers.Conv2D(filters=64, kernel_size=2, padding='same', activation='relu'))\n",
        "model3.add(tf.keras.layers.MaxPooling2D(pool_size=2))\n",
        "model3.add(tf.keras.layers.Dropout(0.25))\n",
        "\n",
        "model3.add(tf.keras.layers.Flatten())\n",
        "model3.add(tf.keras.layers.Dense(256, activation='relu'))\n",
        "model3.add(tf.keras.layers.Dropout(0.15))\n",
        "model3.add(tf.keras.layers.Dense(10, activation='softmax'))\n",
        "\n",
        "model3.compile(\n",
        "    optimizer=\"adam\",\n",
        "    loss=tf.keras.losses.SparseCategoricalCrossentropy(),\n",
        "    metrics=[\"accuracy\"]\n",
        ")\n",
        "model3.summary()"
      ],
      "metadata": {
        "colab": {
          "base_uri": "https://localhost:8080/"
        },
        "id": "lUzm7CKE84zp",
        "outputId": "64e02680-5da7-4b45-cf94-006c12e7c14e"
      },
      "execution_count": 98,
      "outputs": [
        {
          "output_type": "stream",
          "name": "stdout",
          "text": [
            "Model: \"sequential_29\"\n",
            "_________________________________________________________________\n",
            " Layer (type)                Output Shape              Param #   \n",
            "=================================================================\n",
            " conv2d_59 (Conv2D)          (None, 28, 28, 32)        160       \n",
            "                                                                 \n",
            " conv2d_60 (Conv2D)          (None, 28, 28, 64)        8256      \n",
            "                                                                 \n",
            " max_pooling2d_58 (MaxPoolin  (None, 14, 14, 64)       0         \n",
            " g2D)                                                            \n",
            "                                                                 \n",
            " dropout_86 (Dropout)        (None, 14, 14, 64)        0         \n",
            "                                                                 \n",
            " conv2d_61 (Conv2D)          (None, 14, 14, 64)        16448     \n",
            "                                                                 \n",
            " max_pooling2d_59 (MaxPoolin  (None, 7, 7, 64)         0         \n",
            " g2D)                                                            \n",
            "                                                                 \n",
            " dropout_87 (Dropout)        (None, 7, 7, 64)          0         \n",
            "                                                                 \n",
            " flatten_28 (Flatten)        (None, 3136)              0         \n",
            "                                                                 \n",
            " dense_56 (Dense)            (None, 256)               803072    \n",
            "                                                                 \n",
            " dropout_88 (Dropout)        (None, 256)               0         \n",
            "                                                                 \n",
            " dense_57 (Dense)            (None, 10)                2570      \n",
            "                                                                 \n",
            "=================================================================\n",
            "Total params: 830,506\n",
            "Trainable params: 830,506\n",
            "Non-trainable params: 0\n",
            "_________________________________________________________________\n"
          ]
        }
      ]
    },
    {
      "cell_type": "code",
      "source": [
        "history = model3.fit(\n",
        "    partial_x_train,\n",
        "    partial_y_train,\n",
        "    epochs=20,\n",
        "    batch_size=1024,\n",
        "    validation_data=(x_val, y_val)\n",
        ")"
      ],
      "metadata": {
        "colab": {
          "base_uri": "https://localhost:8080/"
        },
        "id": "5VtyJ0ta85Fe",
        "outputId": "3a022ad7-5400-4fbd-fa70-570bad21d447"
      },
      "execution_count": 107,
      "outputs": [
        {
          "output_type": "stream",
          "name": "stdout",
          "text": [
            "Epoch 1/20\n",
            "44/44 [==============================] - 4s 81ms/step - loss: 0.0382 - accuracy: 0.9862 - val_loss: 0.2731 - val_accuracy: 0.9327\n",
            "Epoch 2/20\n",
            "44/44 [==============================] - 3s 68ms/step - loss: 0.0273 - accuracy: 0.9901 - val_loss: 0.2755 - val_accuracy: 0.9337\n",
            "Epoch 3/20\n",
            "44/44 [==============================] - 3s 68ms/step - loss: 0.0246 - accuracy: 0.9910 - val_loss: 0.2839 - val_accuracy: 0.9339\n",
            "Epoch 4/20\n",
            "44/44 [==============================] - 3s 69ms/step - loss: 0.0238 - accuracy: 0.9915 - val_loss: 0.2891 - val_accuracy: 0.9343\n",
            "Epoch 5/20\n",
            "44/44 [==============================] - 3s 69ms/step - loss: 0.0228 - accuracy: 0.9917 - val_loss: 0.2917 - val_accuracy: 0.9349\n",
            "Epoch 6/20\n",
            "44/44 [==============================] - 3s 69ms/step - loss: 0.0220 - accuracy: 0.9922 - val_loss: 0.2927 - val_accuracy: 0.9355\n",
            "Epoch 7/20\n",
            "44/44 [==============================] - 3s 69ms/step - loss: 0.0209 - accuracy: 0.9923 - val_loss: 0.2924 - val_accuracy: 0.9346\n",
            "Epoch 8/20\n",
            "44/44 [==============================] - 3s 69ms/step - loss: 0.0191 - accuracy: 0.9932 - val_loss: 0.2976 - val_accuracy: 0.9350\n",
            "Epoch 9/20\n",
            "44/44 [==============================] - 3s 70ms/step - loss: 0.0199 - accuracy: 0.9934 - val_loss: 0.3006 - val_accuracy: 0.9347\n",
            "Epoch 10/20\n",
            "44/44 [==============================] - 3s 70ms/step - loss: 0.0196 - accuracy: 0.9932 - val_loss: 0.3060 - val_accuracy: 0.9351\n",
            "Epoch 11/20\n",
            "44/44 [==============================] - 3s 70ms/step - loss: 0.0196 - accuracy: 0.9930 - val_loss: 0.3035 - val_accuracy: 0.9354\n",
            "Epoch 12/20\n",
            "44/44 [==============================] - 3s 70ms/step - loss: 0.0172 - accuracy: 0.9942 - val_loss: 0.3037 - val_accuracy: 0.9358\n",
            "Epoch 13/20\n",
            "44/44 [==============================] - 3s 70ms/step - loss: 0.0174 - accuracy: 0.9939 - val_loss: 0.3102 - val_accuracy: 0.9360\n",
            "Epoch 14/20\n",
            "44/44 [==============================] - 3s 69ms/step - loss: 0.0195 - accuracy: 0.9934 - val_loss: 0.3060 - val_accuracy: 0.9351\n",
            "Epoch 15/20\n",
            "44/44 [==============================] - 3s 69ms/step - loss: 0.0167 - accuracy: 0.9939 - val_loss: 0.3080 - val_accuracy: 0.9360\n",
            "Epoch 16/20\n",
            "44/44 [==============================] - 3s 69ms/step - loss: 0.0167 - accuracy: 0.9940 - val_loss: 0.3068 - val_accuracy: 0.9351\n",
            "Epoch 17/20\n",
            "44/44 [==============================] - 3s 68ms/step - loss: 0.0152 - accuracy: 0.9946 - val_loss: 0.3102 - val_accuracy: 0.9357\n",
            "Epoch 18/20\n",
            "44/44 [==============================] - 3s 68ms/step - loss: 0.0169 - accuracy: 0.9940 - val_loss: 0.3138 - val_accuracy: 0.9365\n",
            "Epoch 19/20\n",
            "44/44 [==============================] - 3s 68ms/step - loss: 0.0162 - accuracy: 0.9939 - val_loss: 0.3151 - val_accuracy: 0.9359\n",
            "Epoch 20/20\n",
            "44/44 [==============================] - 3s 68ms/step - loss: 0.0147 - accuracy: 0.9946 - val_loss: 0.3212 - val_accuracy: 0.9362\n"
          ]
        }
      ]
    },
    {
      "cell_type": "code",
      "source": [
        "test_loss, test_acc = model3.evaluate(test_data, test_labels)"
      ],
      "metadata": {
        "colab": {
          "base_uri": "https://localhost:8080/"
        },
        "id": "3Ny958xC85M-",
        "outputId": "bc990b2f-3932-41f0-8ef2-7184eef586de"
      },
      "execution_count": 108,
      "outputs": [
        {
          "output_type": "stream",
          "name": "stdout",
          "text": [
            "313/313 [==============================] - 1s 3ms/step - loss: 0.3489 - accuracy: 0.9345\n"
          ]
        }
      ]
    }
  ]
}